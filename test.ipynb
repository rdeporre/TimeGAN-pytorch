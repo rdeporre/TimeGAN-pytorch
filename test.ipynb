{
 "cells": [
  {
   "cell_type": "code",
   "execution_count": 1,
   "metadata": {},
   "outputs": [],
   "source": [
    "import torch\n",
    "import torch.nn as nn\n",
    "import torch.optim as optim\n",
    "import numpy as np\n",
    "import pandas as pd\n",
    "from matplotlib import pyplot as plt\n",
    "from IPython.display import clear_output\n",
    "from torchviz import make_dot\n",
    "from lib.timegan import *\n",
    "from lib.data import *\n",
    "from options import *\n",
    "import mplfinance as mpf\n"
   ]
  },
  {
   "cell_type": "code",
   "execution_count": 2,
   "metadata": {},
   "outputs": [],
   "source": [
    "SEQ_LENGTH = 1024  # Longueur des séries temporelles\n",
    "LATENT_DIM = 64    # Dimension de l'espace latent\n",
    "BATCH_SIZE = 32\n",
    "EPOCHS = 30000\n",
    "SEQS = 1000\n",
    "DEVICE = torch.device(\"cuda\" if torch.cuda.is_available() else \"cpu\")\n"
   ]
  },
  {
   "cell_type": "code",
   "execution_count": 3,
   "metadata": {},
   "outputs": [
    {
     "name": "stdout",
     "output_type": "stream",
     "text": [
      "(1000, 1024)\n"
     ]
    }
   ],
   "source": [
    "df = pd.read_pickle('assets/binance_BTC_USDT.zip')\n",
    "size = df.shape[0]\n",
    "deb_max = size - SEQ_LENGTH\n",
    "\n",
    "arr=[]\n",
    "for i in range(SEQS):\n",
    "    deb = np.random.randint(0, deb_max)\n",
    "    df2 = df.iloc[deb:deb+SEQ_LENGTH+1]\n",
    "    # close = df2.close.array\n",
    "    close = df2.close.pct_change().dropna().array\n",
    "    close = 2 * (close - close.min()) / (close.max() - close.min()) - 1\n",
    "    arr.append(close)\n",
    "\n",
    "arr = np.array(arr)\n",
    "data = arr.reshape((SEQS, 1, SEQ_LENGTH)).astype(np.float32)\n",
    "# print(arr)\n",
    "print(arr.shape)\n"
   ]
  },
  {
   "cell_type": "code",
   "execution_count": 2,
   "metadata": {},
   "outputs": [
    {
     "name": "stdout",
     "output_type": "stream",
     "text": [
      "stock dataset is ready.\n",
      "\n",
      "Loading pre-trained networks.\n",
      "\tDone.\n",
      "\n"
     ]
    },
    {
     "name": "stderr",
     "output_type": "stream",
     "text": [
      "c:\\repositories\\TimeGAN-pytorch\\lib\\timegan.py:274: FutureWarning: You are using `torch.load` with `weights_only=False` (the current default value), which uses the default pickle module implicitly. It is possible to construct malicious pickle data which will execute arbitrary code during unpickling (See https://github.com/pytorch/pytorch/blob/main/SECURITY.md#untrusted-models for more details). In a future release, the default value for `weights_only` will be flipped to `True`. This limits the functions that could be executed during unpickling. Arbitrary objects will no longer be allowed to be loaded via this mode unless they are explicitly allowlisted by the user via `torch.serialization.add_safe_globals`. We recommend you start setting `weights_only=True` for any use case where you don't have full control of the loaded file. Please open an issue on GitHub for any issues related to this experimental feature.\n",
      "  self.opt.iter = torch.load(os.path.join(self.opt.resume, 'netG.pth'))['epoch']\n",
      "c:\\repositories\\TimeGAN-pytorch\\lib\\timegan.py:275: FutureWarning: You are using `torch.load` with `weights_only=False` (the current default value), which uses the default pickle module implicitly. It is possible to construct malicious pickle data which will execute arbitrary code during unpickling (See https://github.com/pytorch/pytorch/blob/main/SECURITY.md#untrusted-models for more details). In a future release, the default value for `weights_only` will be flipped to `True`. This limits the functions that could be executed during unpickling. Arbitrary objects will no longer be allowed to be loaded via this mode unless they are explicitly allowlisted by the user via `torch.serialization.add_safe_globals`. We recommend you start setting `weights_only=True` for any use case where you don't have full control of the loaded file. Please open an issue on GitHub for any issues related to this experimental feature.\n",
      "  self.nete.load_state_dict(torch.load(os.path.join(self.opt.resume, 'netE.pth'))['state_dict'])\n",
      "c:\\repositories\\TimeGAN-pytorch\\lib\\timegan.py:276: FutureWarning: You are using `torch.load` with `weights_only=False` (the current default value), which uses the default pickle module implicitly. It is possible to construct malicious pickle data which will execute arbitrary code during unpickling (See https://github.com/pytorch/pytorch/blob/main/SECURITY.md#untrusted-models for more details). In a future release, the default value for `weights_only` will be flipped to `True`. This limits the functions that could be executed during unpickling. Arbitrary objects will no longer be allowed to be loaded via this mode unless they are explicitly allowlisted by the user via `torch.serialization.add_safe_globals`. We recommend you start setting `weights_only=True` for any use case where you don't have full control of the loaded file. Please open an issue on GitHub for any issues related to this experimental feature.\n",
      "  self.netr.load_state_dict(torch.load(os.path.join(self.opt.resume, 'netR.pth'))['state_dict'])\n",
      "c:\\repositories\\TimeGAN-pytorch\\lib\\timegan.py:277: FutureWarning: You are using `torch.load` with `weights_only=False` (the current default value), which uses the default pickle module implicitly. It is possible to construct malicious pickle data which will execute arbitrary code during unpickling (See https://github.com/pytorch/pytorch/blob/main/SECURITY.md#untrusted-models for more details). In a future release, the default value for `weights_only` will be flipped to `True`. This limits the functions that could be executed during unpickling. Arbitrary objects will no longer be allowed to be loaded via this mode unless they are explicitly allowlisted by the user via `torch.serialization.add_safe_globals`. We recommend you start setting `weights_only=True` for any use case where you don't have full control of the loaded file. Please open an issue on GitHub for any issues related to this experimental feature.\n",
      "  self.netg.load_state_dict(torch.load(os.path.join(self.opt.resume, 'netG.pth'))['state_dict'])\n",
      "c:\\repositories\\TimeGAN-pytorch\\lib\\timegan.py:278: FutureWarning: You are using `torch.load` with `weights_only=False` (the current default value), which uses the default pickle module implicitly. It is possible to construct malicious pickle data which will execute arbitrary code during unpickling (See https://github.com/pytorch/pytorch/blob/main/SECURITY.md#untrusted-models for more details). In a future release, the default value for `weights_only` will be flipped to `True`. This limits the functions that could be executed during unpickling. Arbitrary objects will no longer be allowed to be loaded via this mode unless they are explicitly allowlisted by the user via `torch.serialization.add_safe_globals`. We recommend you start setting `weights_only=True` for any use case where you don't have full control of the loaded file. Please open an issue on GitHub for any issues related to this experimental feature.\n",
      "  self.netd.load_state_dict(torch.load(os.path.join(self.opt.resume, 'netD.pth'))['state_dict'])\n",
      "c:\\repositories\\TimeGAN-pytorch\\lib\\timegan.py:279: FutureWarning: You are using `torch.load` with `weights_only=False` (the current default value), which uses the default pickle module implicitly. It is possible to construct malicious pickle data which will execute arbitrary code during unpickling (See https://github.com/pytorch/pytorch/blob/main/SECURITY.md#untrusted-models for more details). In a future release, the default value for `weights_only` will be flipped to `True`. This limits the functions that could be executed during unpickling. Arbitrary objects will no longer be allowed to be loaded via this mode unless they are explicitly allowlisted by the user via `torch.serialization.add_safe_globals`. We recommend you start setting `weights_only=True` for any use case where you don't have full control of the loaded file. Please open an issue on GitHub for any issues related to this experimental feature.\n",
      "  self.nets.load_state_dict(torch.load(os.path.join(self.opt.resume, 'netS.pth'))['state_dict'])\n"
     ]
    }
   ],
   "source": [
    "opt = Options().parse()\n",
    "\n",
    "opt.resume = './output/TimeGAN/stock/train/weights'\n",
    "\n",
    "ori_data = load_data(opt)\n",
    "\n",
    "# LOAD MODEL\n",
    "model = TimeGAN(opt, ori_data)\n"
   ]
  },
  {
   "cell_type": "code",
   "execution_count": 9,
   "metadata": {},
   "outputs": [
    {
     "name": "stdout",
     "output_type": "stream",
     "text": [
      "(2, 24, 6)\n",
      "[[[0.21030493 0.21199791 0.21259698 0.20997331 0.20998381 0.06981008]\n",
      "  [0.21084318 0.21254085 0.21314227 0.2105144  0.21052501 0.06963907]\n",
      "  [0.24230161 0.24427237 0.2449517  0.24210989 0.24212471 0.06171841]\n",
      "  [0.20990066 0.2115919  0.21218741 0.2095667  0.20957713 0.07001299]\n",
      "  [0.23236838 0.23425265 0.23493961 0.23215395 0.2321678  0.06360697]\n",
      "  [0.21201827 0.213724   0.21433287 0.21169612 0.21170692 0.06917906]\n",
      "  [0.23342985 0.23532242 0.23601279 0.23322006 0.23323406 0.06333257]\n",
      "  [0.21458626 0.2163116  0.21693666 0.21428001 0.21429126 0.06825993]\n",
      "  [0.20981297 0.21150307 0.21209817 0.20947826 0.2094887  0.07002896]\n",
      "  [0.23442566 0.23632976 0.23701535 0.23421702 0.23423108 0.06323151]\n",
      "  [0.21002562 0.21171702 0.21231399 0.20969236 0.20970283 0.06993537]\n",
      "  [0.21108446 0.21278211 0.21338684 0.21075729 0.21076794 0.06947806]\n",
      "  [0.24323763 0.2452148  0.24589503 0.24304813 0.24306303 0.06150457]\n",
      "  [0.3003087  0.30274802 0.30301968 0.29997858 0.29999405 0.05364354]\n",
      "  [0.21069424 0.21238977 0.21299127 0.21036465 0.2103752  0.06965418]\n",
      "  [0.21028866 0.21198171 0.21258052 0.2099569  0.20996743 0.06982448]\n",
      "  [0.24797554 0.2499896  0.25066595 0.24779458 0.2478099  0.06058039]\n",
      "  [0.21061505 0.21231118 0.21291077 0.21028475 0.21029527 0.06973077]\n",
      "  [0.290737   0.29315257 0.29334038 0.29036573 0.29038012 0.05671784]\n",
      "  [0.21604897 0.21778579 0.21841893 0.21575105 0.21576256 0.06776433]\n",
      "  [0.21045862 0.21215315 0.212752   0.21012726 0.21013783 0.0697764 ]\n",
      "  [0.29565483 0.29804263 0.29848007 0.29544383 0.29546127 0.05402431]\n",
      "  [0.20967072 0.21136001 0.21195451 0.20933555 0.20934595 0.07008979]\n",
      "  [0.21093594 0.21263407 0.21323653 0.21060796 0.21061859 0.06959575]]\n",
      "\n",
      " [[0.06941324 0.06948157 0.06789968 0.06798188 0.06797554 0.44871449]\n",
      "  [0.06936382 0.0694315  0.06785511 0.06793382 0.06792745 0.44806576]\n",
      "  [0.08210783 0.08229429 0.08087859 0.08086454 0.08085889 0.42671493]\n",
      "  [0.06964232 0.06971242 0.06814029 0.06821696 0.06821062 0.44743872]\n",
      "  [0.07388283 0.0739915  0.07246957 0.07252145 0.07251542 0.44268566]\n",
      "  [0.06903964 0.06910451 0.06752469 0.06760481 0.0675984  0.44859582]\n",
      "  [0.07426504 0.07437881 0.07283225 0.07289945 0.07289358 0.44567797]\n",
      "  [0.06826314 0.06832292 0.06671986 0.06681237 0.06680594 0.45177302]\n",
      "  [0.06964994 0.06972009 0.06814485 0.06822347 0.06821714 0.44782448]\n",
      "  [0.07543492 0.07555959 0.07402851 0.07408692 0.07408115 0.44347143]\n",
      "  [0.06949697 0.0695662  0.06798373 0.06806646 0.06806014 0.44876635]\n",
      "  [0.06911281 0.0691789  0.06758663 0.06767457 0.06766821 0.45009959]\n",
      "  [0.08237226 0.08256318 0.0811287  0.08112553 0.08111999 0.42873806]\n",
      "  [0.30557382 0.30886942 0.30598234 0.30475739 0.30475909 0.13156956]\n",
      "  [0.06924602 0.06931354 0.06771912 0.06780864 0.06780232 0.45034268]\n",
      "  [0.06938024 0.06944882 0.06785874 0.06794588 0.06793959 0.44975606]\n",
      "  [0.08624057 0.08646851 0.08510942 0.0850544  0.08504882 0.41730356]\n",
      "  [0.06948061 0.06954908 0.06797667 0.06805318 0.0680468  0.44753546]\n",
      "  [0.08342261 0.0837115  0.08227306 0.08225139 0.08224747 0.43249321]\n",
      "  [0.06796404 0.06802202 0.0664041  0.06650496 0.06649859 0.45378748]\n",
      "  [0.06942698 0.06949571 0.06790979 0.06799449 0.06798816 0.44924119]\n",
      "  [0.10264485 0.10309651 0.10191966 0.10168597 0.10168117 0.38183933]\n",
      "  [0.06963522 0.06970558 0.0681269  0.06820756 0.06820127 0.44824952]\n",
      "  [0.06925017 0.06931747 0.06773233 0.06781615 0.06780981 0.44919077]]]\n"
     ]
    }
   ],
   "source": [
    "datagen = model.generation(2)\n",
    "\n",
    "print(datagen.shape)\n",
    "print(datagen)"
   ]
  },
  {
   "cell_type": "code",
   "execution_count": 10,
   "metadata": {},
   "outputs": [
    {
     "name": "stdout",
     "output_type": "stream",
     "text": [
      "                         Open      High       Low     Close\n",
      "date                                                       \n",
      "2010-01-01 00:00:00  0.069413  0.069482  0.067900  0.067982\n",
      "2010-01-01 01:00:00  0.069364  0.069431  0.067855  0.067934\n",
      "2010-01-01 02:00:00  0.082108  0.082294  0.080879  0.080865\n",
      "2010-01-01 03:00:00  0.069642  0.069712  0.068140  0.068217\n",
      "2010-01-01 04:00:00  0.073883  0.073991  0.072470  0.072521\n",
      "2010-01-01 05:00:00  0.069040  0.069105  0.067525  0.067605\n",
      "2010-01-01 06:00:00  0.074265  0.074379  0.072832  0.072899\n",
      "2010-01-01 07:00:00  0.068263  0.068323  0.066720  0.066812\n",
      "2010-01-01 08:00:00  0.069650  0.069720  0.068145  0.068223\n",
      "2010-01-01 09:00:00  0.075435  0.075560  0.074029  0.074087\n",
      "2010-01-01 10:00:00  0.069497  0.069566  0.067984  0.068066\n",
      "2010-01-01 11:00:00  0.069113  0.069179  0.067587  0.067675\n",
      "2010-01-01 12:00:00  0.082372  0.082563  0.081129  0.081126\n",
      "2010-01-01 13:00:00  0.305574  0.308869  0.305982  0.304757\n",
      "2010-01-01 14:00:00  0.069246  0.069314  0.067719  0.067809\n",
      "2010-01-01 15:00:00  0.069380  0.069449  0.067859  0.067946\n",
      "2010-01-01 16:00:00  0.086241  0.086469  0.085109  0.085054\n",
      "2010-01-01 17:00:00  0.069481  0.069549  0.067977  0.068053\n",
      "2010-01-01 18:00:00  0.083423  0.083712  0.082273  0.082251\n",
      "2010-01-01 19:00:00  0.067964  0.068022  0.066404  0.066505\n",
      "2010-01-01 20:00:00  0.069427  0.069496  0.067910  0.067994\n",
      "2010-01-01 21:00:00  0.102645  0.103097  0.101920  0.101686\n",
      "2010-01-01 22:00:00  0.069635  0.069706  0.068127  0.068208\n",
      "2010-01-01 23:00:00  0.069250  0.069317  0.067732  0.067816\n"
     ]
    },
    {
     "data": {
      "image/png": "[encoded data removed]",
      "text/plain": [
       "<Figure size 640x480 with 1 Axes>"
      ]
     },
     "metadata": {},
     "output_type": "display_data"
    }
   ],
   "source": [
    "\n",
    "df = pd.DataFrame(datagen[1][:, :4])\n",
    "df.columns = ['Open','High','Low','Close']\n",
    "df['date'] = pd.date_range(start='2010-01-01', periods=len(df), freq='h')\n",
    "df = df.set_index('date')\n",
    "\n",
    "\n",
    "print(df)\n",
    "# mpf.plot(df, volume=False, type='candle')\n",
    "# plt.show()\n",
    "\n",
    "plt.plot(df.Close)\n",
    "plt.show()\n"
   ]
  }
 ],
 "metadata": {
  "kernelspec": {
   "display_name": "venv",
   "language": "python",
   "name": "python3"
  },
  "language_info": {
   "codemirror_mode": {
    "name": "ipython",
    "version": 3
   },
   "file_extension": ".py",
   "mimetype": "text/x-python",
   "name": "python",
   "nbconvert_exporter": "python",
   "pygments_lexer": "ipython3",
   "version": "3.12.3"
  }
 },
 "nbformat": 4,
 "nbformat_minor": 2
}

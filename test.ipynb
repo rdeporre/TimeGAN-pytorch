{
 "cells": [
  {
   "cell_type": "code",
   "execution_count": 1,
   "metadata": {},
   "outputs": [],
   "source": [
    "import torch\n",
    "import torch.nn as nn\n",
    "import torch.optim as optim\n",
    "import numpy as np\n",
    "import pandas as pd\n",
    "from matplotlib import pyplot as plt\n",
    "from IPython.display import clear_output\n",
    "from torchviz import make_dot\n",
    "\n"
   ]
  },
  {
   "cell_type": "code",
   "execution_count": 2,
   "metadata": {},
   "outputs": [],
   "source": [
    "SEQ_LENGTH = 1024  # Longueur des séries temporelles\n",
    "LATENT_DIM = 64    # Dimension de l'espace latent\n",
    "BATCH_SIZE = 32\n",
    "EPOCHS = 30000\n",
    "SEQS = 1000\n",
    "DEVICE = torch.device(\"cuda\" if torch.cuda.is_available() else \"cpu\")\n"
   ]
  },
  {
   "cell_type": "code",
   "execution_count": 3,
   "metadata": {},
   "outputs": [
    {
     "name": "stdout",
     "output_type": "stream",
     "text": [
      "(1000, 1024)\n"
     ]
    }
   ],
   "source": [
    "df = pd.read_pickle('assets/binance_BTC_USDT.zip')\n",
    "size = df.shape[0]\n",
    "deb_max = size - SEQ_LENGTH\n",
    "\n",
    "arr=[]\n",
    "for i in range(SEQS):\n",
    "    deb = np.random.randint(0, deb_max)\n",
    "    df2 = df.iloc[deb:deb+SEQ_LENGTH+1]\n",
    "    # close = df2.close.array\n",
    "    close = df2.close.pct_change().dropna().array\n",
    "    close = 2 * (close - close.min()) / (close.max() - close.min()) - 1\n",
    "    arr.append(close)\n",
    "\n",
    "arr = np.array(arr)\n",
    "data = arr.reshape((SEQS, 1, SEQ_LENGTH)).astype(np.float32)\n",
    "# print(arr)\n",
    "print(arr.shape)\n"
   ]
  }
 ],
 "metadata": {
  "kernelspec": {
   "display_name": "venv",
   "language": "python",
   "name": "python3"
  },
  "language_info": {
   "codemirror_mode": {
    "name": "ipython",
    "version": 3
   },
   "file_extension": ".py",
   "mimetype": "text/x-python",
   "name": "python",
   "nbconvert_exporter": "python",
   "pygments_lexer": "ipython3",
   "version": "3.12.3"
  }
 },
 "nbformat": 4,
 "nbformat_minor": 2
}
